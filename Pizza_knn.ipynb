{
  "nbformat": 4,
  "nbformat_minor": 0,
  "metadata": {
    "colab": {
      "provenance": []
    },
    "kernelspec": {
      "name": "python3",
      "display_name": "Python 3"
    },
    "language_info": {
      "name": "python"
    }
  },
  "cells": [
    {
      "cell_type": "markdown",
      "source": [
        "# Pizza Shop Recommender using k-Nearest Neighbors (k-NN)\n",
        "\n",
        "In this project, we’ll understand the k-NN algorithm through a fun and relatable example: choosing a pizza shop based on what our friends preferred!  \n",
        "You'll see how machine learning can work even with everyday decisions.\n"
      ],
      "metadata": {
        "id": "CUS3kwLqCvgK"
      }
    },
    {
      "cell_type": "code",
      "execution_count": 1,
      "metadata": {
        "id": "kA8XTB-0ByXZ"
      },
      "outputs": [],
      "source": [
        "import pandas as pd\n",
        "import matplotlib.pyplot as plt\n",
        "import seaborn as sns\n",
        "from sklearn.neighbors import KNeighborsClassifier\n",
        "from sklearn.preprocessing import StandardScaler\n",
        "from sklearn.model_selection import train_test_split\n",
        "import numpy as np\n",
        "\n",
        "#for clean visuals\n",
        "sns.set(style = \"whitegrid\")"
      ]
    },
    {
      "cell_type": "markdown",
      "source": [
        "## Step 1: Let’s Load Our Pizza Data\n",
        "\n",
        "We collected some data from 10 friends about pizza shops they visited, including:\n",
        "- Distance from home  \n",
        "- Price level (1 to 5)  \n",
        "- Rating (1 to 5)  \n",
        "- Whether they chose that pizza shop or not (1 = Yes, 0 = No)\n",
        "\n",
        "We’ll use this to train our k-NN model.\n"
      ],
      "metadata": {
        "id": "05_WnXPjCGOn"
      }
    },
    {
      "cell_type": "code",
      "source": [
        "df = pd.read_csv(\"/content/pizza_friends_data.csv\")\n",
        "df"
      ],
      "metadata": {
        "colab": {
          "base_uri": "https://localhost:8080/",
          "height": 363
        },
        "id": "PLUHble_Cq__",
        "outputId": "9823e062-66b4-4888-b937-3fbce998afe7"
      },
      "execution_count": 3,
      "outputs": [
        {
          "output_type": "execute_result",
          "data": {
            "text/plain": [
              "  Friend  Distance_km  Price_Level  Rating  Chose_Shop\n",
              "0      A          1.2            2     4.5           1\n",
              "1      B          2.5            3     4.0           1\n",
              "2      C          0.8            1     3.5           1\n",
              "3      D          3.1            5     4.8           0\n",
              "4      E          2.0            4     3.0           0\n",
              "5      F          1.0            2     4.2           1\n",
              "6      G          2.8            3     2.5           0\n",
              "7      H          1.7            3     3.8           1\n",
              "8      I          3.5            4     4.1           0\n",
              "9      J          0.5            1     3.9           1"
            ],
            "text/html": [
              "\n",
              "  <div id=\"df-4636e673-7f14-495e-a75a-bc4b29aa5915\" class=\"colab-df-container\">\n",
              "    <div>\n",
              "<style scoped>\n",
              "    .dataframe tbody tr th:only-of-type {\n",
              "        vertical-align: middle;\n",
              "    }\n",
              "\n",
              "    .dataframe tbody tr th {\n",
              "        vertical-align: top;\n",
              "    }\n",
              "\n",
              "    .dataframe thead th {\n",
              "        text-align: right;\n",
              "    }\n",
              "</style>\n",
              "<table border=\"1\" class=\"dataframe\">\n",
              "  <thead>\n",
              "    <tr style=\"text-align: right;\">\n",
              "      <th></th>\n",
              "      <th>Friend</th>\n",
              "      <th>Distance_km</th>\n",
              "      <th>Price_Level</th>\n",
              "      <th>Rating</th>\n",
              "      <th>Chose_Shop</th>\n",
              "    </tr>\n",
              "  </thead>\n",
              "  <tbody>\n",
              "    <tr>\n",
              "      <th>0</th>\n",
              "      <td>A</td>\n",
              "      <td>1.2</td>\n",
              "      <td>2</td>\n",
              "      <td>4.5</td>\n",
              "      <td>1</td>\n",
              "    </tr>\n",
              "    <tr>\n",
              "      <th>1</th>\n",
              "      <td>B</td>\n",
              "      <td>2.5</td>\n",
              "      <td>3</td>\n",
              "      <td>4.0</td>\n",
              "      <td>1</td>\n",
              "    </tr>\n",
              "    <tr>\n",
              "      <th>2</th>\n",
              "      <td>C</td>\n",
              "      <td>0.8</td>\n",
              "      <td>1</td>\n",
              "      <td>3.5</td>\n",
              "      <td>1</td>\n",
              "    </tr>\n",
              "    <tr>\n",
              "      <th>3</th>\n",
              "      <td>D</td>\n",
              "      <td>3.1</td>\n",
              "      <td>5</td>\n",
              "      <td>4.8</td>\n",
              "      <td>0</td>\n",
              "    </tr>\n",
              "    <tr>\n",
              "      <th>4</th>\n",
              "      <td>E</td>\n",
              "      <td>2.0</td>\n",
              "      <td>4</td>\n",
              "      <td>3.0</td>\n",
              "      <td>0</td>\n",
              "    </tr>\n",
              "    <tr>\n",
              "      <th>5</th>\n",
              "      <td>F</td>\n",
              "      <td>1.0</td>\n",
              "      <td>2</td>\n",
              "      <td>4.2</td>\n",
              "      <td>1</td>\n",
              "    </tr>\n",
              "    <tr>\n",
              "      <th>6</th>\n",
              "      <td>G</td>\n",
              "      <td>2.8</td>\n",
              "      <td>3</td>\n",
              "      <td>2.5</td>\n",
              "      <td>0</td>\n",
              "    </tr>\n",
              "    <tr>\n",
              "      <th>7</th>\n",
              "      <td>H</td>\n",
              "      <td>1.7</td>\n",
              "      <td>3</td>\n",
              "      <td>3.8</td>\n",
              "      <td>1</td>\n",
              "    </tr>\n",
              "    <tr>\n",
              "      <th>8</th>\n",
              "      <td>I</td>\n",
              "      <td>3.5</td>\n",
              "      <td>4</td>\n",
              "      <td>4.1</td>\n",
              "      <td>0</td>\n",
              "    </tr>\n",
              "    <tr>\n",
              "      <th>9</th>\n",
              "      <td>J</td>\n",
              "      <td>0.5</td>\n",
              "      <td>1</td>\n",
              "      <td>3.9</td>\n",
              "      <td>1</td>\n",
              "    </tr>\n",
              "  </tbody>\n",
              "</table>\n",
              "</div>\n",
              "    <div class=\"colab-df-buttons\">\n",
              "\n",
              "  <div class=\"colab-df-container\">\n",
              "    <button class=\"colab-df-convert\" onclick=\"convertToInteractive('df-4636e673-7f14-495e-a75a-bc4b29aa5915')\"\n",
              "            title=\"Convert this dataframe to an interactive table.\"\n",
              "            style=\"display:none;\">\n",
              "\n",
              "  <svg xmlns=\"http://www.w3.org/2000/svg\" height=\"24px\" viewBox=\"0 -960 960 960\">\n",
              "    <path d=\"M120-120v-720h720v720H120Zm60-500h600v-160H180v160Zm220 220h160v-160H400v160Zm0 220h160v-160H400v160ZM180-400h160v-160H180v160Zm440 0h160v-160H620v160ZM180-180h160v-160H180v160Zm440 0h160v-160H620v160Z\"/>\n",
              "  </svg>\n",
              "    </button>\n",
              "\n",
              "  <style>\n",
              "    .colab-df-container {\n",
              "      display:flex;\n",
              "      gap: 12px;\n",
              "    }\n",
              "\n",
              "    .colab-df-convert {\n",
              "      background-color: #E8F0FE;\n",
              "      border: none;\n",
              "      border-radius: 50%;\n",
              "      cursor: pointer;\n",
              "      display: none;\n",
              "      fill: #1967D2;\n",
              "      height: 32px;\n",
              "      padding: 0 0 0 0;\n",
              "      width: 32px;\n",
              "    }\n",
              "\n",
              "    .colab-df-convert:hover {\n",
              "      background-color: #E2EBFA;\n",
              "      box-shadow: 0px 1px 2px rgba(60, 64, 67, 0.3), 0px 1px 3px 1px rgba(60, 64, 67, 0.15);\n",
              "      fill: #174EA6;\n",
              "    }\n",
              "\n",
              "    .colab-df-buttons div {\n",
              "      margin-bottom: 4px;\n",
              "    }\n",
              "\n",
              "    [theme=dark] .colab-df-convert {\n",
              "      background-color: #3B4455;\n",
              "      fill: #D2E3FC;\n",
              "    }\n",
              "\n",
              "    [theme=dark] .colab-df-convert:hover {\n",
              "      background-color: #434B5C;\n",
              "      box-shadow: 0px 1px 3px 1px rgba(0, 0, 0, 0.15);\n",
              "      filter: drop-shadow(0px 1px 2px rgba(0, 0, 0, 0.3));\n",
              "      fill: #FFFFFF;\n",
              "    }\n",
              "  </style>\n",
              "\n",
              "    <script>\n",
              "      const buttonEl =\n",
              "        document.querySelector('#df-4636e673-7f14-495e-a75a-bc4b29aa5915 button.colab-df-convert');\n",
              "      buttonEl.style.display =\n",
              "        google.colab.kernel.accessAllowed ? 'block' : 'none';\n",
              "\n",
              "      async function convertToInteractive(key) {\n",
              "        const element = document.querySelector('#df-4636e673-7f14-495e-a75a-bc4b29aa5915');\n",
              "        const dataTable =\n",
              "          await google.colab.kernel.invokeFunction('convertToInteractive',\n",
              "                                                    [key], {});\n",
              "        if (!dataTable) return;\n",
              "\n",
              "        const docLinkHtml = 'Like what you see? Visit the ' +\n",
              "          '<a target=\"_blank\" href=https://colab.research.google.com/notebooks/data_table.ipynb>data table notebook</a>'\n",
              "          + ' to learn more about interactive tables.';\n",
              "        element.innerHTML = '';\n",
              "        dataTable['output_type'] = 'display_data';\n",
              "        await google.colab.output.renderOutput(dataTable, element);\n",
              "        const docLink = document.createElement('div');\n",
              "        docLink.innerHTML = docLinkHtml;\n",
              "        element.appendChild(docLink);\n",
              "      }\n",
              "    </script>\n",
              "  </div>\n",
              "\n",
              "\n",
              "    <div id=\"df-c558783b-1a82-4eb4-8d0e-44eb67d0d7c4\">\n",
              "      <button class=\"colab-df-quickchart\" onclick=\"quickchart('df-c558783b-1a82-4eb4-8d0e-44eb67d0d7c4')\"\n",
              "                title=\"Suggest charts\"\n",
              "                style=\"display:none;\">\n",
              "\n",
              "<svg xmlns=\"http://www.w3.org/2000/svg\" height=\"24px\"viewBox=\"0 0 24 24\"\n",
              "     width=\"24px\">\n",
              "    <g>\n",
              "        <path d=\"M19 3H5c-1.1 0-2 .9-2 2v14c0 1.1.9 2 2 2h14c1.1 0 2-.9 2-2V5c0-1.1-.9-2-2-2zM9 17H7v-7h2v7zm4 0h-2V7h2v10zm4 0h-2v-4h2v4z\"/>\n",
              "    </g>\n",
              "</svg>\n",
              "      </button>\n",
              "\n",
              "<style>\n",
              "  .colab-df-quickchart {\n",
              "      --bg-color: #E8F0FE;\n",
              "      --fill-color: #1967D2;\n",
              "      --hover-bg-color: #E2EBFA;\n",
              "      --hover-fill-color: #174EA6;\n",
              "      --disabled-fill-color: #AAA;\n",
              "      --disabled-bg-color: #DDD;\n",
              "  }\n",
              "\n",
              "  [theme=dark] .colab-df-quickchart {\n",
              "      --bg-color: #3B4455;\n",
              "      --fill-color: #D2E3FC;\n",
              "      --hover-bg-color: #434B5C;\n",
              "      --hover-fill-color: #FFFFFF;\n",
              "      --disabled-bg-color: #3B4455;\n",
              "      --disabled-fill-color: #666;\n",
              "  }\n",
              "\n",
              "  .colab-df-quickchart {\n",
              "    background-color: var(--bg-color);\n",
              "    border: none;\n",
              "    border-radius: 50%;\n",
              "    cursor: pointer;\n",
              "    display: none;\n",
              "    fill: var(--fill-color);\n",
              "    height: 32px;\n",
              "    padding: 0;\n",
              "    width: 32px;\n",
              "  }\n",
              "\n",
              "  .colab-df-quickchart:hover {\n",
              "    background-color: var(--hover-bg-color);\n",
              "    box-shadow: 0 1px 2px rgba(60, 64, 67, 0.3), 0 1px 3px 1px rgba(60, 64, 67, 0.15);\n",
              "    fill: var(--button-hover-fill-color);\n",
              "  }\n",
              "\n",
              "  .colab-df-quickchart-complete:disabled,\n",
              "  .colab-df-quickchart-complete:disabled:hover {\n",
              "    background-color: var(--disabled-bg-color);\n",
              "    fill: var(--disabled-fill-color);\n",
              "    box-shadow: none;\n",
              "  }\n",
              "\n",
              "  .colab-df-spinner {\n",
              "    border: 2px solid var(--fill-color);\n",
              "    border-color: transparent;\n",
              "    border-bottom-color: var(--fill-color);\n",
              "    animation:\n",
              "      spin 1s steps(1) infinite;\n",
              "  }\n",
              "\n",
              "  @keyframes spin {\n",
              "    0% {\n",
              "      border-color: transparent;\n",
              "      border-bottom-color: var(--fill-color);\n",
              "      border-left-color: var(--fill-color);\n",
              "    }\n",
              "    20% {\n",
              "      border-color: transparent;\n",
              "      border-left-color: var(--fill-color);\n",
              "      border-top-color: var(--fill-color);\n",
              "    }\n",
              "    30% {\n",
              "      border-color: transparent;\n",
              "      border-left-color: var(--fill-color);\n",
              "      border-top-color: var(--fill-color);\n",
              "      border-right-color: var(--fill-color);\n",
              "    }\n",
              "    40% {\n",
              "      border-color: transparent;\n",
              "      border-right-color: var(--fill-color);\n",
              "      border-top-color: var(--fill-color);\n",
              "    }\n",
              "    60% {\n",
              "      border-color: transparent;\n",
              "      border-right-color: var(--fill-color);\n",
              "    }\n",
              "    80% {\n",
              "      border-color: transparent;\n",
              "      border-right-color: var(--fill-color);\n",
              "      border-bottom-color: var(--fill-color);\n",
              "    }\n",
              "    90% {\n",
              "      border-color: transparent;\n",
              "      border-bottom-color: var(--fill-color);\n",
              "    }\n",
              "  }\n",
              "</style>\n",
              "\n",
              "      <script>\n",
              "        async function quickchart(key) {\n",
              "          const quickchartButtonEl =\n",
              "            document.querySelector('#' + key + ' button');\n",
              "          quickchartButtonEl.disabled = true;  // To prevent multiple clicks.\n",
              "          quickchartButtonEl.classList.add('colab-df-spinner');\n",
              "          try {\n",
              "            const charts = await google.colab.kernel.invokeFunction(\n",
              "                'suggestCharts', [key], {});\n",
              "          } catch (error) {\n",
              "            console.error('Error during call to suggestCharts:', error);\n",
              "          }\n",
              "          quickchartButtonEl.classList.remove('colab-df-spinner');\n",
              "          quickchartButtonEl.classList.add('colab-df-quickchart-complete');\n",
              "        }\n",
              "        (() => {\n",
              "          let quickchartButtonEl =\n",
              "            document.querySelector('#df-c558783b-1a82-4eb4-8d0e-44eb67d0d7c4 button');\n",
              "          quickchartButtonEl.style.display =\n",
              "            google.colab.kernel.accessAllowed ? 'block' : 'none';\n",
              "        })();\n",
              "      </script>\n",
              "    </div>\n",
              "\n",
              "  <div id=\"id_0b85bf13-dc89-4d3b-a064-5d34ed3a8eed\">\n",
              "    <style>\n",
              "      .colab-df-generate {\n",
              "        background-color: #E8F0FE;\n",
              "        border: none;\n",
              "        border-radius: 50%;\n",
              "        cursor: pointer;\n",
              "        display: none;\n",
              "        fill: #1967D2;\n",
              "        height: 32px;\n",
              "        padding: 0 0 0 0;\n",
              "        width: 32px;\n",
              "      }\n",
              "\n",
              "      .colab-df-generate:hover {\n",
              "        background-color: #E2EBFA;\n",
              "        box-shadow: 0px 1px 2px rgba(60, 64, 67, 0.3), 0px 1px 3px 1px rgba(60, 64, 67, 0.15);\n",
              "        fill: #174EA6;\n",
              "      }\n",
              "\n",
              "      [theme=dark] .colab-df-generate {\n",
              "        background-color: #3B4455;\n",
              "        fill: #D2E3FC;\n",
              "      }\n",
              "\n",
              "      [theme=dark] .colab-df-generate:hover {\n",
              "        background-color: #434B5C;\n",
              "        box-shadow: 0px 1px 3px 1px rgba(0, 0, 0, 0.15);\n",
              "        filter: drop-shadow(0px 1px 2px rgba(0, 0, 0, 0.3));\n",
              "        fill: #FFFFFF;\n",
              "      }\n",
              "    </style>\n",
              "    <button class=\"colab-df-generate\" onclick=\"generateWithVariable('df')\"\n",
              "            title=\"Generate code using this dataframe.\"\n",
              "            style=\"display:none;\">\n",
              "\n",
              "  <svg xmlns=\"http://www.w3.org/2000/svg\" height=\"24px\"viewBox=\"0 0 24 24\"\n",
              "       width=\"24px\">\n",
              "    <path d=\"M7,19H8.4L18.45,9,17,7.55,7,17.6ZM5,21V16.75L18.45,3.32a2,2,0,0,1,2.83,0l1.4,1.43a1.91,1.91,0,0,1,.58,1.4,1.91,1.91,0,0,1-.58,1.4L9.25,21ZM18.45,9,17,7.55Zm-12,3A5.31,5.31,0,0,0,4.9,8.1,5.31,5.31,0,0,0,1,6.5,5.31,5.31,0,0,0,4.9,4.9,5.31,5.31,0,0,0,6.5,1,5.31,5.31,0,0,0,8.1,4.9,5.31,5.31,0,0,0,12,6.5,5.46,5.46,0,0,0,6.5,12Z\"/>\n",
              "  </svg>\n",
              "    </button>\n",
              "    <script>\n",
              "      (() => {\n",
              "      const buttonEl =\n",
              "        document.querySelector('#id_0b85bf13-dc89-4d3b-a064-5d34ed3a8eed button.colab-df-generate');\n",
              "      buttonEl.style.display =\n",
              "        google.colab.kernel.accessAllowed ? 'block' : 'none';\n",
              "\n",
              "      buttonEl.onclick = () => {\n",
              "        google.colab.notebook.generateWithVariable('df');\n",
              "      }\n",
              "      })();\n",
              "    </script>\n",
              "  </div>\n",
              "\n",
              "    </div>\n",
              "  </div>\n"
            ],
            "application/vnd.google.colaboratory.intrinsic+json": {
              "type": "dataframe",
              "variable_name": "df",
              "summary": "{\n  \"name\": \"df\",\n  \"rows\": 10,\n  \"fields\": [\n    {\n      \"column\": \"Friend\",\n      \"properties\": {\n        \"dtype\": \"string\",\n        \"num_unique_values\": 10,\n        \"samples\": [\n          \"I\",\n          \"B\",\n          \"F\"\n        ],\n        \"semantic_type\": \"\",\n        \"description\": \"\"\n      }\n    },\n    {\n      \"column\": \"Distance_km\",\n      \"properties\": {\n        \"dtype\": \"number\",\n        \"std\": 1.0375719519896225,\n        \"min\": 0.5,\n        \"max\": 3.5,\n        \"num_unique_values\": 10,\n        \"samples\": [\n          3.5,\n          2.5,\n          1.0\n        ],\n        \"semantic_type\": \"\",\n        \"description\": \"\"\n      }\n    },\n    {\n      \"column\": \"Price_Level\",\n      \"properties\": {\n        \"dtype\": \"number\",\n        \"std\": 1,\n        \"min\": 1,\n        \"max\": 5,\n        \"num_unique_values\": 5,\n        \"samples\": [\n          3,\n          4,\n          1\n        ],\n        \"semantic_type\": \"\",\n        \"description\": \"\"\n      }\n    },\n    {\n      \"column\": \"Rating\",\n      \"properties\": {\n        \"dtype\": \"number\",\n        \"std\": 0.6832113712298542,\n        \"min\": 2.5,\n        \"max\": 4.8,\n        \"num_unique_values\": 10,\n        \"samples\": [\n          4.1,\n          4.0,\n          4.2\n        ],\n        \"semantic_type\": \"\",\n        \"description\": \"\"\n      }\n    },\n    {\n      \"column\": \"Chose_Shop\",\n      \"properties\": {\n        \"dtype\": \"number\",\n        \"std\": 0,\n        \"min\": 0,\n        \"max\": 1,\n        \"num_unique_values\": 2,\n        \"samples\": [\n          0,\n          1\n        ],\n        \"semantic_type\": \"\",\n        \"description\": \"\"\n      }\n    }\n  ]\n}"
            }
          },
          "metadata": {},
          "execution_count": 3
        }
      ]
    },
    {
      "cell_type": "code",
      "source": [
        "print(df.info())\n",
        "print(\"\\nSummary Statistics:\\n\")\n",
        "print(df.describe())"
      ],
      "metadata": {
        "colab": {
          "base_uri": "https://localhost:8080/"
        },
        "id": "FVFaNp2IC_jB",
        "outputId": "2e53360f-b887-44f6-e69a-92be0ad9d079"
      },
      "execution_count": 4,
      "outputs": [
        {
          "output_type": "stream",
          "name": "stdout",
          "text": [
            "<class 'pandas.core.frame.DataFrame'>\n",
            "RangeIndex: 10 entries, 0 to 9\n",
            "Data columns (total 5 columns):\n",
            " #   Column       Non-Null Count  Dtype  \n",
            "---  ------       --------------  -----  \n",
            " 0   Friend       10 non-null     object \n",
            " 1   Distance_km  10 non-null     float64\n",
            " 2   Price_Level  10 non-null     int64  \n",
            " 3   Rating       10 non-null     float64\n",
            " 4   Chose_Shop   10 non-null     int64  \n",
            "dtypes: float64(2), int64(2), object(1)\n",
            "memory usage: 532.0+ bytes\n",
            "None\n",
            "\n",
            "Summary Statistics:\n",
            "\n",
            "       Distance_km  Price_Level     Rating  Chose_Shop\n",
            "count    10.000000    10.000000  10.000000   10.000000\n",
            "mean      1.910000     2.800000   3.830000    0.600000\n",
            "std       1.037572     1.316561   0.683211    0.516398\n",
            "min       0.500000     1.000000   2.500000    0.000000\n",
            "25%       1.050000     2.000000   3.575000    0.000000\n",
            "50%       1.850000     3.000000   3.950000    1.000000\n",
            "75%       2.725000     3.750000   4.175000    1.000000\n",
            "max       3.500000     5.000000   4.800000    1.000000\n"
          ]
        }
      ]
    },
    {
      "cell_type": "markdown",
      "source": [
        "## Step 2: Visual Exploration\n",
        "\n",
        "Before training any ML model, it’s important to understand the data.  \n",
        "Here, we’ll visually explore how distance and rating influence pizza choices.\n"
      ],
      "metadata": {
        "id": "irPXvC7LDT6k"
      }
    },
    {
      "cell_type": "code",
      "source": [
        "plt.figure(figsize=(10, 6))\n",
        "palette = {1: \"green\", 0: \"red\"}\n",
        "sns.scatterplot(data=df, x=\"Distance_km\", y=\"Rating\", hue=\"Chose_Shop\", s=100, palette=palette)\n",
        "plt.title(\"Pizza Shop Choices by Friends\", fontsize = 16)\n",
        "plt.xlabel(\"Distance from Home (km)\")\n",
        "plt.ylabel(\"Pizza Rating\")\n",
        "plt.legend(title=\"Chose Shop\")\n",
        "plt.show()"
      ],
      "metadata": {
        "colab": {
          "base_uri": "https://localhost:8080/",
          "height": 575
        },
        "id": "G5nTVEaZDQLo",
        "outputId": "fb2a1b8f-9070-4384-a674-b759318df32d"
      },
      "execution_count": 5,
      "outputs": [
        {
          "output_type": "display_data",
          "data": {
            "text/plain": [
              "<Figure size 1000x600 with 1 Axes>"
            ],
            "image/png": "[encoded data removed]"
          },
          "metadata": {}
        }
      ]
    },
    {
      "cell_type": "markdown",
      "source": [
        "## Step 3: Preprocessing for Machine Learning\n",
        "\n",
        "ML models work better when features are scaled (especially distance-based models like k-NN).  \n",
        "So we will normalize the distance, price, and rating using `StandardScaler`.\n"
      ],
      "metadata": {
        "id": "VB8zYkgAEV09"
      }
    },
    {
      "cell_type": "code",
      "source": [
        "X = df[[\"Distance_km\", \"Price_Level\", \"Rating\"]]\n",
        "y = df[\"Chose_Shop\"]\n",
        "\n",
        "scaler = StandardScaler()\n",
        "X_scaled = scaler.fit_transform(X)"
      ],
      "metadata": {
        "id": "njUcOfkDEWiA"
      },
      "execution_count": 7,
      "outputs": []
    },
    {
      "cell_type": "markdown",
      "source": [
        "## Step 4: What About You?\n",
        "\n",
        "Let’s assume you are also deciding whether to go to a pizza shop.  \n",
        "You enter:\n",
        "- Distance = 1.5 km  \n",
        "- Price Level = 3  \n",
        "- Rating = 4.0\n",
        "\n",
        "Let’s see if the model thinks **you’ll choose this shop**, based on your friends’ choices.\n"
      ],
      "metadata": {
        "id": "v8NUrsM1Ev6f"
      }
    },
    {
      "cell_type": "code",
      "source": [
        "your_input = pd.DataFrame({\"Distance_km\": [1.5], \"Price_Level\": [3], \"Rating\": [4.0]})\n",
        "your_input_scaled = scaler.transform(your_input)"
      ],
      "metadata": {
        "id": "LVBOX9DAExMv"
      },
      "execution_count": 8,
      "outputs": []
    },
    {
      "cell_type": "markdown",
      "source": [
        "## Step 5: Train a k-NN Model\n",
        "\n",
        "Now, we’ll train a k-NN classifier using k = 3 (i.e., we’ll check the 3 nearest friends to make a decision for you).\n"
      ],
      "metadata": {
        "id": "LaqLt1b6E8LK"
      }
    },
    {
      "cell_type": "code",
      "source": [
        "knn = KNeighborsClassifier(n_neighbors=3)\n",
        "knn.fit(X_scaled, y)\n",
        "\n",
        "prediction = knn.predict(your_input_scaled)[0]\n",
        "print(\"Would you choose this pizza shop?\",\"Yes\" if prediction == 1 else \"No\")"
      ],
      "metadata": {
        "colab": {
          "base_uri": "https://localhost:8080/"
        },
        "id": "AbhFl5xVE83G",
        "outputId": "d3e05a5b-0550-468e-8c91-764dbeee9500"
      },
      "execution_count": 9,
      "outputs": [
        {
          "output_type": "stream",
          "name": "stdout",
          "text": [
            "Would you choose this pizza shop? Yes\n"
          ]
        }
      ]
    },
    {
      "cell_type": "markdown",
      "source": [
        "## Step 6: How k Affects Prediction\n",
        "\n",
        "Let’s test different `k` values (from 1 to 7) to see how it changes the prediction.  \n",
        "This helps us understand why choosing the right `k` is important.\n"
      ],
      "metadata": {
        "id": "0ghxJfGTFVqO"
      }
    },
    {
      "cell_type": "code",
      "source": [
        "print(\"Predictions with different k values:\")\n",
        "for k in range(1, 8):\n",
        "  model = KNeighborsClassifier(n_neighbors=k)\n",
        "  model.fit(X_scaled, y)\n",
        "  pred = model.predict(your_input_scaled)[0]\n",
        "  print(f\"k = {k}: {'Yes' if pred == 1 else 'No'}\")"
      ],
      "metadata": {
        "colab": {
          "base_uri": "https://localhost:8080/"
        },
        "id": "8QROdHNgFUDf",
        "outputId": "8bba226d-e88a-483e-8765-4ad1509496a6"
      },
      "execution_count": 10,
      "outputs": [
        {
          "output_type": "stream",
          "name": "stdout",
          "text": [
            "Predictions with different k values:\n",
            "k = 1: Yes\n",
            "k = 2: Yes\n",
            "k = 3: Yes\n",
            "k = 4: Yes\n",
            "k = 5: Yes\n",
            "k = 6: Yes\n",
            "k = 7: Yes\n"
          ]
        }
      ]
    },
    {
      "cell_type": "markdown",
      "source": [
        "## Step 7: See Your Nearest Friends\n",
        "\n",
        "This is a bonus visualization to literally **see** which friends are closest to you and how they influenced your result.  \n",
        "Each dotted line connects you to a friend considered during prediction.\n"
      ],
      "metadata": {
        "id": "GYpQb5_1GEd9"
      }
    },
    {
      "cell_type": "code",
      "source": [
        "from sklearn.metrics import pairwise_distances\n",
        "\n",
        "X_with_you = np.vstack([X_scaled, your_input_scaled])\n",
        "y_with_you = list(y) + [-1]\n",
        "\n",
        "distances = pairwise_distances([your_input_scaled[0]], X_scaled)[0]\n",
        "nearest_indices = distances.argsort()[:3]\n",
        "\n",
        "plt.figure(figsize=(10, 6))\n",
        "colors = [\"green\" if label == 1 else \"red\" for label in y]\n",
        "plt.scatter(X_scaled[:, 0], X_scaled[:, 2], c=colors, s=100, label=\"Friends\")\n",
        "\n",
        "plt.scatter(your_input_scaled[0][0], your_input_scaled[0][2], c=\"blue\", s=200, label=\"You\", marker=\"*\")\n",
        "\n",
        "for i in nearest_indices:\n",
        "    plt.plot(\n",
        "        [your_input_scaled[0][0], X_scaled[i][0]],\n",
        "        [your_input_scaled[0][2], X_scaled[i][2]],\n",
        "        color='gray', linestyle='dotted'\n",
        "    )\n",
        "\n",
        "plt.xlabel(\"Distance (scaled)\")\n",
        "plt.ylabel(\"Rating (scaled)\")\n",
        "plt.title(\"k-NN Neighbors Around Your Pizza Choice\")\n",
        "plt.legend()\n",
        "plt.show()"
      ],
      "metadata": {
        "colab": {
          "base_uri": "https://localhost:8080/",
          "height": 573
        },
        "id": "jr_WpiBDGH1J",
        "outputId": "50cef6d5-6a84-46cb-ffbe-57f30120e776"
      },
      "execution_count": 11,
      "outputs": [
        {
          "output_type": "display_data",
          "data": {
            "text/plain": [
              "<Figure size 1000x600 with 1 Axes>"
            ],
            "image/png": "[encoded data removed]"
          },
          "metadata": {}
        }
      ]
    },
    {
      "cell_type": "markdown",
      "source": [
        "## Conclusion: What We Learned\n",
        "\n",
        "- k-NN predicts based on how similar other data points are.\n",
        "- The choice of `k` and feature scaling matters a lot.\n",
        "- We used a relatable example to understand a core ML concept.\n",
        "\n",
        "You can use this same idea for recommending restaurants, products, or even college branches!\n"
      ],
      "metadata": {
        "id": "DBBebE1hGf--"
      }
    }
  ]
}